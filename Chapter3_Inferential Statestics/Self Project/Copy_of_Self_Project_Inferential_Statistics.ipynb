{
  "nbformat": 4,
  "nbformat_minor": 0,
  "metadata": {
    "colab": {
      "provenance": []
    },
    "kernelspec": {
      "name": "python3",
      "display_name": "Python 3"
    }
  },
  "cells": [
    {
      "cell_type": "code",
      "metadata": {
        "id": "3esVBW4i70f9"
      },
      "source": [
        "from scipy.stats import uniform\n",
        "from scipy.stats import norm\n",
        "from scipy.stats import chi2\n",
        "from scipy.stats import t\n",
        "from scipy.stats import f"
      ],
      "execution_count": null,
      "outputs": []
    },
    {
      "cell_type": "markdown",
      "metadata": {
        "id": "3qjmg__vWv1-"
      },
      "source": [
        "# <b> <u> Use only these imported functions to check the confidence intervals or to obtain P-values </b>"
      ]
    },
    {
      "cell_type": "markdown",
      "metadata": {
        "id": "Oq9OIkpjU3hr"
      },
      "source": [
        "# <b><u> Problem 1 </u> </b>\n",
        "\n",
        "## <b>The average IQ of a sample of $N$ university students was found to be $\\bar{x}$. Write a Python function which performs a statistical test to determine whether the average IQ of university students is greater than $\\mu$, assuming that IQs are normally distributed. It is known from previous studies that the standard deviation of IQs among students is approximately $\\sigma$. This function can take the above parameters as arguments along with the significance level. Check the function outputs for the following input combinations. Also use only the functions imported above to perform the tests.</b>"
      ]
    },
    {
      "cell_type": "code",
      "metadata": {
        "id": "U7kH7roOPgCb"
      },
      "source": [
        "input_list = [{'sample_size' : 50 , 'sample_mean' : 105 , 'hypothesis_mean' : 100, 'population_std_deviation' : 20, 'significance_level' : 0.05},\n",
        "              {'sample_size' : 100 , 'sample_mean' : 102 , 'hypothesis_mean' : 100, 'population_std_deviation' : 30, 'significance_level' : 0.05},\n",
        "              {'sample_size' : 500 , 'sample_mean' : 110 , 'hypothesis_mean' : 100, 'population_std_deviation' : 10, 'significance_level' : 0.01}]"
      ],
      "execution_count": null,
      "outputs": []
    },
    {
      "cell_type": "code",
      "metadata": {
        "id": "c9Od9u61QG6j",
        "outputId": "5fb12fcb-ba78-4668-a8a8-de6b9e071101",
        "colab": {
          "base_uri": "https://localhost:8080/"
        }
      },
      "source": [
        "# Your code here\n",
        "import scipy.stats as stats\n",
        "\n",
        "def perform_t_test(sample_size,sample_mean,hypothesis_mean,population_std_deviation,significance_level):\n",
        "  degree_of_freedom=sample_size-1\n",
        "  t_stat= (sample_mean-hypothesis_mean)/(population_std_deviation/ (sample_size**0.5))\n",
        "  p_value=1-stats.t.cdf(t_stat,df=degree_of_freedom)\n",
        "\n",
        "  if p_value<significance_level:\n",
        "    return \"average IQ of university students is equal or less than  μ\"\n",
        "  else:\n",
        "    return \"average IQ of university students is greater than  μ\"\n",
        "\n",
        "for input_dict in input_list:\n",
        "  result = perform_t_test(input_dict['sample_size'],input_dict['sample_mean'],input_dict['hypothesis_mean'],input_dict['population_std_deviation'],input_dict['significance_level'])\n",
        "  print(f\"for {input_dict} {result}\")"
      ],
      "execution_count": null,
      "outputs": [
        {
          "output_type": "stream",
          "name": "stdout",
          "text": [
            "for {'sample_size': 50, 'sample_mean': 105, 'hypothesis_mean': 100, 'population_std_deviation': 20, 'significance_level': 0.05} average IQ of university students is equal or less than  μ\n",
            "for {'sample_size': 100, 'sample_mean': 102, 'hypothesis_mean': 100, 'population_std_deviation': 30, 'significance_level': 0.05} average IQ of university students is greater than  μ\n",
            "for {'sample_size': 500, 'sample_mean': 110, 'hypothesis_mean': 100, 'population_std_deviation': 10, 'significance_level': 0.01} average IQ of university students is equal or less than  μ\n"
          ]
        }
      ]
    },
    {
      "cell_type": "markdown",
      "metadata": {
        "id": "1ECG-HvyQ01v"
      },
      "source": [
        "# <b><u> Problem 2 </u> </b>\n",
        "\n",
        "## <b>Write a Python function to perform a statistical test to assess whether the standard deviation of the heights of 10- year-old children is equal to $\\sigma$ cm, based on the random sample of $N$ where $N$ < 20 heights in cm. You can use numpy functionality to generate the list of N heights between 120 and 140 which follow the normal distribution. You can use <code>np.randn() </code> to generate the sample heights. Your code should print all the possible conclusions based on the tests. Check the function outputs for N = 10, 15, 18. Also you can take values of $\\sigma$ to be 3, 4 and 5 respectively </b>"
      ]
    },
    {
      "cell_type": "code",
      "metadata": {
        "id": "Cg8Um9lnSHtB"
      },
      "source": [
        "# Your code here\n",
        "input_list = [{'sample_size' : 10 , 'hypothesis_std_dev' : 3,  'significance_level' : 0.05},\n",
        "              {'sample_size' : 15 , 'hypothesis_std_dev' : 4,  'significance_level' : 0.05},\n",
        "              {'sample_size' : 18  , 'hypothesis_std_dev' : 5,  'significance_level' : 0.01}]"
      ],
      "execution_count": null,
      "outputs": []
    },
    {
      "cell_type": "code",
      "source": [
        "import numpy as np\n",
        "import scipy.stats as stats\n",
        "\n",
        "def perform_std_dev_test(sample_size, hypothesis_std_dev, significance_level):\n",
        "    sample_heights = np.random.normal(130, hypothesis_std_dev, sample_size)\n",
        "    sample_std_dev = np.std(sample_heights, ddof=1)\n",
        "\n",
        "    F_statistic = (sample_std_dev ** 2) / (hypothesis_std_dev ** 2)\n",
        "    degrees_of_freedom1 = sample_size - 1\n",
        "    degrees_of_freedom2 = 1\n",
        "\n",
        "    p_value = 1 - stats.f.cdf(F_statistic, dfn=degrees_of_freedom1, dfd=degrees_of_freedom2)\n",
        "\n",
        "\n",
        "\n",
        "    if p_value < significance_level:\n",
        "        print(f\"standard deviation of the heights of 10- year-old children is not equal to {hypothesis_std_dev} cm\")\n",
        "    else:\n",
        "        print(f\"standard deviation of the heights of 10- year-old children is equal to {hypothesis_std_dev} cm\")\n",
        "\n",
        "for input_dict in input_list:\n",
        "    perform_std_dev_test(input_dict['sample_size'], input_dict['hypothesis_std_dev'], input_dict['significance_level'])"
      ],
      "metadata": {
        "id": "sw6QLxhMSYBM",
        "outputId": "793d3498-19df-4f1a-c87a-7eaa9115339c",
        "colab": {
          "base_uri": "https://localhost:8080/"
        }
      },
      "execution_count": null,
      "outputs": [
        {
          "output_type": "stream",
          "name": "stdout",
          "text": [
            "standard deviation of the heights of 10- year-old children is equal to 3 cm\n",
            "standard deviation of the heights of 10- year-old children is equal to 4 cm\n",
            "standard deviation of the heights of 10- year-old children is equal to 5 cm\n"
          ]
        }
      ]
    },
    {
      "cell_type": "markdown",
      "metadata": {
        "id": "X7bIJKrivZ_T"
      },
      "source": [
        "# <b><u> Problem 3 </u></b>\n",
        "\n",
        "# <b> In a one-year mortality investigation, $m$ of the $M$ ninety-year-old males and $f$ of the $F$ ninety-year-old females present at the start of the investigation died before the end of the year. Assuming that the numbers of deaths follow binomial distributions, write a Python function to test whether there is a difference between male and female mortality rates at this age.</b>"
      ]
    },
    {
      "cell_type": "code",
      "metadata": {
        "id": "-cGOyeDnTqyH"
      },
      "source": [
        "# Your code here\n",
        "input_list = [{'dead_males' : 25 , 'males' : 100,  'dead_females' : 20, 'females' : 150 ,  'significance_level' : 0.05},\n",
        "              {'dead_males' : 30 , 'males' : 110,  'dead_females' : 20, 'females' : 160 ,  'significance_level' : 0.05},\n",
        "              {'dead_males' : 20 , 'males' : 100,  'dead_females' : 20, 'females' : 120 ,  'significance_level' : 0.01}]"
      ],
      "execution_count": null,
      "outputs": []
    },
    {
      "cell_type": "code",
      "source": [
        "from scipy.stats import binom_test\n",
        "\n",
        "def test_mortality_difference(data):\n",
        "    results = []\n",
        "    for entry in data:\n",
        "        p_value_males = binom_test(entry['dead_males'], entry['males'], entry['dead_males'] / entry['males'])\n",
        "        p_value_females = binom_test(entry['dead_females'], entry['females'], entry['dead_females'] / entry['females'])\n",
        "\n",
        "        if p_value_males < entry['significance_level'] or p_value_females < entry['significance_level']:\n",
        "            results.append(\"No difference between male and female mortality rates at this age\")\n",
        "        else:\n",
        "            results.append(\"there is a difference between male and female mortality rates at this age\")\n",
        "    return results\n",
        "\n",
        "results = test_mortality_difference(input_list)\n",
        "\n",
        "print(results)"
      ],
      "metadata": {
        "id": "t7-zQ943daMd",
        "outputId": "7b29b83e-f052-4c0f-eece-da707fb8eba8",
        "colab": {
          "base_uri": "https://localhost:8080/"
        }
      },
      "execution_count": null,
      "outputs": [
        {
          "output_type": "stream",
          "name": "stdout",
          "text": [
            "['there is a difference between male and female mortality rates at this age', 'there is a difference between male and female mortality rates at this age', 'there is a difference between male and female mortality rates at this age']\n"
          ]
        },
        {
          "output_type": "stream",
          "name": "stderr",
          "text": [
            "<ipython-input-23-4ecda67716db>:6: DeprecationWarning: 'binom_test' is deprecated in favour of 'binomtest' from version 1.7.0 and will be removed in Scipy 1.12.0.\n",
            "  p_value_males = binom_test(entry['dead_males'], entry['males'], entry['dead_males'] / entry['males'])\n",
            "<ipython-input-23-4ecda67716db>:7: DeprecationWarning: 'binom_test' is deprecated in favour of 'binomtest' from version 1.7.0 and will be removed in Scipy 1.12.0.\n",
            "  p_value_females = binom_test(entry['dead_females'], entry['females'], entry['dead_females'] / entry['females'])\n"
          ]
        }
      ]
    },
    {
      "cell_type": "code",
      "source": [],
      "metadata": {
        "id": "3VhUcCW4dmi7"
      },
      "execution_count": null,
      "outputs": []
    }
  ]
}