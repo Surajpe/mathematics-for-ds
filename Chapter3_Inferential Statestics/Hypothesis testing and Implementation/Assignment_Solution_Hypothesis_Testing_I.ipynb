{
  "nbformat": 4,
  "nbformat_minor": 0,
  "metadata": {
    "colab": {
      "provenance": []
    },
    "kernelspec": {
      "name": "python3",
      "display_name": "Python 3"
    }
  },
  "cells": [
    {
      "cell_type": "code",
      "metadata": {
        "id": "lJxnYGm1vq4Z"
      },
      "source": [
        "import numpy as np\n",
        "import seaborn as sns\n",
        "from scipy.stats import *\n",
        "import math"
      ],
      "execution_count": null,
      "outputs": []
    },
    {
      "cell_type": "code",
      "metadata": {
        "id": "yStVGGZuyRPe"
      },
      "source": [
        "#helper functions\n",
        "class findz:\n",
        "  def proportion(self,sample,hyp,size):\n",
        "    return (sample - hyp)/math.sqrt(hyp*(1-hyp)/size)\n",
        "  def mean(self,hyp,sample,size,std):\n",
        "    return (sample - hyp)*math.sqrt(size)/std\n",
        "  def varience(self,hyp,sample,size):\n",
        "    return (size-1)*sample/hyp"
      ],
      "execution_count": null,
      "outputs": []
    },
    {
      "cell_type": "code",
      "metadata": {
        "id": "tTi6jxYy3QDw"
      },
      "source": [
        "variance = lambda x : sum([(i - np.mean(x))**2 for i in x])/(len(x)-1)"
      ],
      "execution_count": null,
      "outputs": []
    },
    {
      "cell_type": "code",
      "metadata": {
        "id": "f1_FA9V7zV0f"
      },
      "source": [
        "findz = findz()"
      ],
      "execution_count": null,
      "outputs": []
    },
    {
      "cell_type": "code",
      "metadata": {
        "id": "zCWPacbkEsvi"
      },
      "source": [
        "def conclusion(p):\n",
        "  significance_level = 0.05\n",
        "  if p>significance_level:\n",
        "    return f\"Failed to reject the Null Hypothesis for p = {p}.\"\n",
        "  else:\n",
        "    return f\"Null Hypothesis rejected Successfully for p = {p}\""
      ],
      "execution_count": null,
      "outputs": []
    },
    {
      "cell_type": "code",
      "metadata": {
        "id": "ppos_wS1FXNK"
      },
      "source": [
        "zcdf = lambda x: norm(0,1).cdf(x)"
      ],
      "execution_count": null,
      "outputs": []
    },
    {
      "cell_type": "code",
      "metadata": {
        "id": "ANUG0URimQBO"
      },
      "source": [
        "def p_value(z,tailed):\n",
        "  z=zcdf(z)\n",
        "  if tailed=='l':\n",
        "    return z\n",
        "  elif tailed == 'r':\n",
        "    return 1-z\n",
        "  elif tailed == 'd':\n",
        "    if z>0.5:\n",
        "      return 2*(1-z)\n",
        "    else:\n",
        "      return 2*z\n",
        "  else:\n",
        "    return np.nan"
      ],
      "execution_count": null,
      "outputs": []
    },
    {
      "cell_type": "markdown",
      "metadata": {
        "id": "AioAG-n5U_6S"
      },
      "source": [
        "# <b> Write the steps and conclusions in the text cells. Use Python to calculate the probabilities. </b>"
      ]
    },
    {
      "cell_type": "markdown",
      "metadata": {
        "id": "Oq9OIkpjU3hr"
      },
      "source": [
        "# <b><u> Problem 1 </u> </b>\n",
        "\n",
        "## <b>The average IQ of a sample of 50 university students was found to be 105. Carry out a statistical test to determine whether the average IQ of university students is greater than 100, assuming that IQs are normally distributed. It is known from previous studies that the standard deviation of IQs among students is approximately 20. </b>"
      ]
    },
    {
      "cell_type": "markdown",
      "metadata": {
        "id": "0Xn2YUJQx7I7"
      },
      "source": [
        "values given : <br>\n",
        "\n",
        "\n",
        "*   Sample mean = 105\n",
        "*   Sample Size = 50\n",
        "* Sampple stdev = 20\n",
        "* Hypothesis mean = 100\n",
        "* p>100\n",
        "* Right Tailed\n"
      ]
    },
    {
      "cell_type": "markdown",
      "metadata": {
        "id": "qopYXC36uP0j"
      },
      "source": [
        "1. Null Hypothesis : p=100\n",
        "2. Alternate Hypotesis : p>100\n",
        "3. Critical Value : alpha = 0.05 :: p < 0.05\n",
        "4. Identify p value\n",
        "5. Conclusion\n"
      ]
    },
    {
      "cell_type": "code",
      "metadata": {
        "id": "fQm41g0V0h9V"
      },
      "source": [
        "hypothesis_mean = 100\n",
        "sample_mean = 105\n",
        "std = 20\n",
        "size = 50"
      ],
      "execution_count": null,
      "outputs": []
    },
    {
      "cell_type": "code",
      "metadata": {
        "id": "Ksf3lWvv0xDZ"
      },
      "source": [
        "z = findz.mean(hypothesis_mean,sample_mean,size,std)"
      ],
      "execution_count": null,
      "outputs": []
    },
    {
      "cell_type": "code",
      "metadata": {
        "id": "qZpCN8v91WWO"
      },
      "source": [
        "p = p_value(z,'r') #right tailed test"
      ],
      "execution_count": null,
      "outputs": []
    },
    {
      "cell_type": "code",
      "metadata": {
        "colab": {
          "base_uri": "https://localhost:8080/",
          "height": 336
        },
        "id": "hPDD3Y28bs1P",
        "outputId": "4bc9c4e8-6bc6-426c-f118-71d923b00cac"
      },
      "source": [
        "x = np.linspace(44,166,200)\n",
        "y = norm.pdf(x,105,20)\n",
        "sns.lineplot(x,y)"
      ],
      "execution_count": null,
      "outputs": [
        {
          "output_type": "stream",
          "text": [
            "/usr/local/lib/python3.6/dist-packages/seaborn/_decorators.py:43: FutureWarning: Pass the following variables as keyword args: x, y. From version 0.12, the only valid positional argument will be `data`, and passing other arguments without an explicit keyword will result in an error or misinterpretation.\n",
            "  FutureWarning\n"
          ],
          "name": "stderr"
        },
        {
          "output_type": "execute_result",
          "data": {
            "text/plain": [
              "<matplotlib.axes._subplots.AxesSubplot at 0x7f9f6e6f5da0>"
            ]
          },
          "metadata": {
            "tags": []
          },
          "execution_count": 572
        },
        {
          "output_type": "display_data",
          "data": {
            "image/png": "[encoded data removed]",
            "text/plain": [
              "<Figure size 432x288 with 1 Axes>"
            ]
          },
          "metadata": {
            "tags": [],
            "needs_background": "light"
          }
        }
      ]
    },
    {
      "cell_type": "code",
      "metadata": {
        "colab": {
          "base_uri": "https://localhost:8080/"
        },
        "id": "-nd9ag17FNkj",
        "outputId": "991ae7ce-c8e4-46ec-b1b1-36ed52483516"
      },
      "source": [
        "print(conclusion(p))"
      ],
      "execution_count": null,
      "outputs": [
        {
          "output_type": "stream",
          "text": [
            "Null Hypothesis rejected Successfully for p = 0.0385499358717708\n"
          ],
          "name": "stdout"
        }
      ]
    },
    {
      "cell_type": "code",
      "metadata": {
        "id": "SBcC3RtH7tPv"
      },
      "source": [
        "del hypothesis_mean,sample_mean,std,size,z,p"
      ],
      "execution_count": null,
      "outputs": []
    },
    {
      "cell_type": "markdown",
      "metadata": {
        "id": "1ECG-HvyQ01v"
      },
      "source": [
        "# <b><u> Problem 2 </u> </b>\n",
        "\n",
        "## <b>Carry out a statistical test to assess whether the standard deviation of the heights of 10- year-old children is equal to 3cm, based on the random sample of 5 heights in cm given below. Assume that heights are normally distributed.\n",
        "\n",
        "## 124, 122, 130, 125, 132 </b>"
      ]
    },
    {
      "cell_type": "markdown",
      "metadata": {
        "id": "fVWbG120fJvW"
      },
      "source": [
        "values given : <br>\n",
        "\n",
        "\n",
        "*   Sample\n",
        "*   Sample Size = 5\n",
        "* Hypothesis Stdev = 3\n",
        "*  Double Tailed\n",
        "\n"
      ]
    },
    {
      "cell_type": "markdown",
      "metadata": {
        "id": "B109wj_afeG4"
      },
      "source": [
        "1. Null Hypothesis : stdev = 3\n",
        "2. Alternate Hypotesis : stdev not = 9\n",
        "3. Critical Value : alpha = 0.05 :: p < 0.05\n",
        "4. Identify p value\n",
        "5. Conclusion\n"
      ]
    },
    {
      "cell_type": "code",
      "metadata": {
        "id": "1UvGljccpyD6"
      },
      "source": [
        "sample = [124, 122, 130, 125, 132]\n",
        "hypothetical_std  = 3\n",
        "hypothetical_variance = hypothetical_std**2\n",
        "sample_variance = variance(sample)"
      ],
      "execution_count": null,
      "outputs": []
    },
    {
      "cell_type": "code",
      "metadata": {
        "id": "jg7UwBVS4rnp"
      },
      "source": [
        "z = findz.varience( hypothetical_variance,sample_variance,len(sample))"
      ],
      "execution_count": null,
      "outputs": []
    },
    {
      "cell_type": "code",
      "metadata": {
        "id": "tLeXMsgP46Fm"
      },
      "source": [
        "p = 2*(1-chi2.cdf(z,len(sample)-1)) #double tailed"
      ],
      "execution_count": null,
      "outputs": []
    },
    {
      "cell_type": "code",
      "metadata": {
        "colab": {
          "base_uri": "https://localhost:8080/"
        },
        "id": "aBwBZX7M6Z4p",
        "outputId": "de51360b-5e72-408c-b1c1-60d7201205fa"
      },
      "source": [
        "print(conclusion(p))"
      ],
      "execution_count": null,
      "outputs": [
        {
          "output_type": "stream",
          "text": [
            "Failed to reject the Null Hypothesis for p = 0.18977823109367087.\n"
          ],
          "name": "stdout"
        }
      ]
    },
    {
      "cell_type": "code",
      "metadata": {
        "id": "LsQz1A0f-d0E"
      },
      "source": [
        "del hypothetical_variance,sample_variance,p,z,sample,hypothetical_std"
      ],
      "execution_count": null,
      "outputs": []
    },
    {
      "cell_type": "markdown",
      "metadata": {
        "id": "jzEBNOS-uCs9"
      },
      "source": [
        "# <b><u> Problem 3 </u> </b>\n",
        "\n",
        "## <b>In a one-year mortality investigation, 45 of the 250 ninety-year-olds present at the start of the investigation died before the end of the year. Assuming that the number of deaths has a Bin(250,q) distribution, test whether this result is consistent with a mortality rate of q = 0.2 for this age. </b>"
      ]
    },
    {
      "cell_type": "markdown",
      "metadata": {
        "id": "W2skEVf9hk3T"
      },
      "source": [
        "values given : <br>\n",
        "\n",
        "\n",
        "*   theta = 45/250\n",
        "*   Sample Size = 250\n",
        "*  theta_h = 0.2\n",
        "*  Double Tailed\n",
        "\n"
      ]
    },
    {
      "cell_type": "markdown",
      "metadata": {
        "id": "9sXfc5EOhnGv"
      },
      "source": [
        "1. Null Hypothesis : theta = 0.2\n",
        "2. Alternate Hypotesis : theta not = 0.2\n",
        "3. Critical Value : alpha = 0.05 :: p < 0.05\n",
        "4. Identify p value\n",
        "5. Conclusion"
      ]
    },
    {
      "cell_type": "code",
      "metadata": {
        "id": "5hGK8F3huD09"
      },
      "source": [
        "size = 250\n",
        "theta_hypothesis = 0.2\n",
        "theta_population = 45/250"
      ],
      "execution_count": null,
      "outputs": []
    },
    {
      "cell_type": "code",
      "metadata": {
        "id": "TG0UDsXUAKNa"
      },
      "source": [
        "z = findz.proportion(theta_population,theta_hypothesis,size)"
      ],
      "execution_count": null,
      "outputs": []
    },
    {
      "cell_type": "code",
      "metadata": {
        "id": "efZdT_C4A6P8"
      },
      "source": [
        "p = p_value(z,'d') #double tailed"
      ],
      "execution_count": null,
      "outputs": []
    },
    {
      "cell_type": "code",
      "metadata": {
        "colab": {
          "base_uri": "https://localhost:8080/"
        },
        "id": "lHTHm8f_GYkT",
        "outputId": "65eb7d44-ca51-4d20-ff6e-6b80b6f2fad1"
      },
      "source": [
        "print(conclusion(p))"
      ],
      "execution_count": null,
      "outputs": [
        {
          "output_type": "stream",
          "text": [
            "Failed to reject the Null Hypothesis for p = 0.4291953004403488.\n"
          ],
          "name": "stdout"
        }
      ]
    },
    {
      "cell_type": "code",
      "metadata": {
        "id": "FUgHcSp2Bhi4"
      },
      "source": [
        "del size,theta_hypothesis,theta_population,z,p"
      ],
      "execution_count": null,
      "outputs": []
    },
    {
      "cell_type": "markdown",
      "metadata": {
        "id": "0X0lO-ciujvE"
      },
      "source": [
        "# <b><u> Problem 4 </u> </b>\n",
        "\n",
        "## <b>A new gene has been identified that makes carriers particularly susceptible to a particular degenerative disease. In a random sample of 250 adult males born in the UK, 8 were found to be carriers of the disease. Test whether the proportion of adult males born in the UK carrying the gene is less than 10%. </b>\n",
        "\n"
      ]
    },
    {
      "cell_type": "markdown",
      "metadata": {
        "id": "huKm8zOciEbv"
      },
      "source": [
        "values given : <br>\n",
        "\n",
        "\n",
        "*   theta = 8/250\n",
        "*   Sample Size = 250\n",
        "*  theta_h = 0.1\n",
        "*  Left Tailed\n",
        "\n"
      ]
    },
    {
      "cell_type": "markdown",
      "metadata": {
        "id": "uj9efkZpiHJG"
      },
      "source": [
        "1. Null Hypothesis : theta = 0.1\n",
        "2. Alternate Hypotesis : theta not < 0.1\n",
        "3. Critical Value : alpha = 0.05 :: p < 0.05\n",
        "4. Identify p value\n",
        "5. Conclusion"
      ]
    },
    {
      "cell_type": "code",
      "metadata": {
        "id": "wKi95lFput9x"
      },
      "source": [
        "p_hyp = 0.1\n",
        "p_sample = 8/250\n",
        "size = 250"
      ],
      "execution_count": null,
      "outputs": []
    },
    {
      "cell_type": "code",
      "metadata": {
        "id": "ICK5jADOC7rY"
      },
      "source": [
        "z = findz.proportion(p_sample,p_hyp,size)"
      ],
      "execution_count": null,
      "outputs": []
    },
    {
      "cell_type": "code",
      "metadata": {
        "id": "3iDrIBfgDEQq"
      },
      "source": [
        "p = p_value(z,'l') #left tailed"
      ],
      "execution_count": null,
      "outputs": []
    },
    {
      "cell_type": "code",
      "metadata": {
        "colab": {
          "base_uri": "https://localhost:8080/"
        },
        "id": "UZAd9Pz0DQk8",
        "outputId": "a96bacc0-c4fa-40eb-ff87-0c3898870540"
      },
      "source": [
        "print(conclusion(p))"
      ],
      "execution_count": null,
      "outputs": [
        {
          "output_type": "stream",
          "text": [
            "Null Hypothesis rejected Successfully for p = 0.00016924134515806854\n"
          ],
          "name": "stdout"
        }
      ]
    },
    {
      "cell_type": "code",
      "metadata": {
        "id": "RnQT2Z8vHSoE"
      },
      "source": [
        "del p_hyp,p_sample,size,z,p"
      ],
      "execution_count": null,
      "outputs": []
    }
  ]
}